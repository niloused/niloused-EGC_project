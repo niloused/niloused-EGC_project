{
 "cells": [
  {
   "cell_type": "code",
   "execution_count": 1,
   "metadata": {},
   "outputs": [],
   "source": [
    "import sys\n",
    "sys.path.insert(0, '/Users/niloufar/Downloads/UNI/winter_2024/EECS 553/final_project/EGC/')\n",
    "from guided_diffusion.unet import UNetModel\n"
   ]
  },
  {
   "cell_type": "code",
   "execution_count": 2,
   "metadata": {},
   "outputs": [],
   "source": [
    "def load_model(checkpoint_path):\n",
    "    checkpoint = torch.load(checkpoint_path, map_location=torch.device('cpu'))\n",
    "    print(\"Checkpoint keys:\", checkpoint.keys())  # Print all keys in the checkpoint dictionary\n",
    "\n",
    "    # Attempt to load the state dictionary\n",
    "    try:\n",
    "        model.load_state_dict(checkpoint['state_dict'])\n",
    "    except KeyError:\n",
    "        print(\"Key 'state_dict' not found. Available keys:\", checkpoint.keys())\n",
    "        raise\n",
    "    \n",
    "    return model"
   ]
  },
  {
   "cell_type": "code",
   "execution_count": 3,
   "metadata": {},
   "outputs": [
    {
     "name": "stdout",
     "output_type": "stream",
     "text": [
      "Files already downloaded and verified\n",
      "Files already downloaded and verified\n"
     ]
    }
   ],
   "source": [
    "import torch\n",
    "from torch import nn\n",
    "from torch.utils.data import DataLoader\n",
    "import torchvision.transforms as transforms\n",
    "import torchvision.datasets as datasets\n",
    "\n",
    "# Import the UNetModel class from the guided_diffusion module\n",
    "from guided_diffusion.unet import UNetModel\n",
    "\n",
    "def load_data(batch_size=64):\n",
    "    transform = transforms.Compose([\n",
    "        transforms.Resize((32, 32)),  # Resize images to 32x32\n",
    "        transforms.ToTensor(),\n",
    "        transforms.Normalize((0.5, 0.5, 0.5), (0.5, 0.5, 0.5))  # Normalize data\n",
    "    ])\n",
    "    train_dataset = datasets.CIFAR10(root='./data', train=True, download=True, transform=transform)\n",
    "    train_loader = DataLoader(train_dataset, batch_size=batch_size, shuffle=True, num_workers=2)\n",
    "\n",
    "    test_dataset = datasets.CIFAR10(root='./data', train=False, download=True, transform=transform)\n",
    "    test_loader = DataLoader(test_dataset, batch_size=batch_size, shuffle=False, num_workers=2)\n",
    "\n",
    "    return train_loader, test_loader\n",
    "\n",
    "def load_model(checkpoint_path):\n",
    "    # Initializing unetModel with the same parameters as the original training\n",
    "    model = UNetModel(\n",
    "        image_size=32,\n",
    "        in_channels=3,\n",
    "        model_channels=384,\n",
    "        out_channels=10,  # Initially setting this to 10 for CIFAR-10\n",
    "        num_res_blocks=2,\n",
    "        attention_resolutions={1, 2, 4},\n",
    "        dropout=0.1,\n",
    "        channel_mult=(1, 2, 4, 8)\n",
    "    )\n",
    "\n",
    "    # Load the checkpoint\n",
    "    checkpoint = torch.load(checkpoint_path, map_location=torch.device('cpu'))\n",
    "\n",
    "    # Load weights with strict=False to allow for ignoring non-matching keys\n",
    "    model.load_state_dict(checkpoint, strict=False)\n",
    "\n",
    "    # Manually adjust layers that have size mismatches\n",
    "    if 'output_blocks.8.1.norm.bias' in checkpoint:\n",
    "        model.output_blocks[8][1].norm = nn.InstanceNorm2d(768)  # Adjusting normalization layers\n",
    "\n",
    "    if 'output_blocks.8.1.proj_out.weight' in checkpoint:\n",
    "        model.output_blocks[8][1].proj_out = nn.Conv2d(768, 768, 1)  # Adjusting projection layer\n",
    "\n",
    "    # Reinitialize the output layer specifically for CIFAR-10\n",
    "    model.out = nn.Sequential(\n",
    "        nn.Conv2d(384, 10, 3, padding=1),\n",
    "        nn.AdaptiveAvgPool2d((1, 1)),\n",
    "        nn.Flatten(),\n",
    "        nn.Linear(10, 10)  # Ensuring it matches CIFAR-10 classes\n",
    "    )\n",
    "\n",
    "    return model\n",
    "\n",
    "checkpoint_path = '/Users/niloufar/Downloads/UNI/winter_2024/EECS 553/final_project/EGC/checkpoints/context_imagenet32_c384_b2_d0_headc64_chmult124_attn32_16_8_convupd_simpleattn_s1k_linear_start_0.00085_end_0.012_bs512_lr1e-4_reweight_alpha_ce0.005_weakaug_training_ema.pt'\n",
    "\n",
    "\n",
    "    # load_model(checkpoint_path)\n",
    "    # model.load_state_dict(checkpoint)\n",
    "\n",
    "    # return model\n",
    "\n",
    "def main():\n",
    "    train_loader, test_loader = load_data()\n",
    "    model = load_model(checkpoint_path)\n",
    "    \n",
    "    # Evaluate the model\n",
    "    model.eval()\n",
    "    with torch.no_grad():\n",
    "        for images, labels in test_loader:\n",
    "            outputs = model(images, torch.tensor([0]*len(images)))  # Assuming 0 is a valid timestep\n",
    "            _, predicted = torch.max(outputs.data, 1)\n",
    "            correct = (predicted == labels).sum().item()\n",
    "            print(f'Accuracy: {100 * correct / len(labels)}%')\n",
    "\n",
    "if __name__ == '__main__':\n",
    "    main()\n"
   ]
  },
  {
   "cell_type": "code",
   "execution_count": null,
   "metadata": {},
   "outputs": [],
   "source": []
  },
  {
   "cell_type": "code",
   "execution_count": null,
   "metadata": {},
   "outputs": [],
   "source": []
  }
 ],
 "metadata": {
  "kernelspec": {
   "display_name": "Python 3",
   "language": "python",
   "name": "python3"
  },
  "language_info": {
   "codemirror_mode": {
    "name": "ipython",
    "version": 3
   },
   "file_extension": ".py",
   "mimetype": "text/x-python",
   "name": "python",
   "nbconvert_exporter": "python",
   "pygments_lexer": "ipython3",
   "version": "3.11.5"
  }
 },
 "nbformat": 4,
 "nbformat_minor": 2
}
